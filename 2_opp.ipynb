{
 "cells": [
  {
   "cell_type": "markdown",
   "metadata": {},
   "source": [
    "# What is object oriented programming?"
   ]
  },
  {
   "cell_type": "markdown",
   "metadata": {},
   "source": [
    "## Programming Paradigms :"
   ]
  },
  {
   "cell_type": "markdown",
   "metadata": {},
   "source": [
    "1) Procedural Oriented paradigm\n",
    ":- It can arrange the code line by line\n",
    "\n",
    "2) Functional Oriented paradigm\n",
    ":- It provides reusability of the code , which measn that we create the function and call them as our requirements\n",
    "\n",
    "3) Object-Oriented paradigm\n",
    ":- We use it in case of real world problem , where Functional paradigm is not suitable for real world problem "
   ]
  },
  {
   "cell_type": "markdown",
   "metadata": {},
   "source": [
    "## Object :"
   ]
  },
  {
   "cell_type": "markdown",
   "metadata": {},
   "source": [
    "- It is a real life object , ex : Email,man,student,employee etc.\n",
    "\n",
    "- Every object have two properties\n",
    "\n",
    "1) Attributes\n",
    "2) Behaviours\n",
    "\n",
    "eg : Email\n",
    "\n",
    "attribute of Email : heading,Subject,name,recipients list\n",
    "\n",
    "Behaviour of Email : Sending, Adding attachments"
   ]
  },
  {
   "cell_type": "markdown",
   "metadata": {},
   "source": [
    "## What Ws Object Oriented Programming ?"
   ]
  },
  {
   "cell_type": "markdown",
   "metadata": {},
   "source": [
    "- Object oriented programming is an approach of writing programs by creating classes and object\n",
    "\n",
    "- More focus on DATA rather than LOGIC"
   ]
  },
  {
   "cell_type": "markdown",
   "metadata": {},
   "source": [
    "## Why OOP?"
   ]
  },
  {
   "cell_type": "markdown",
   "metadata": {},
   "source": [
    "- To solve real-world problem effectively\n",
    "\n",
    "- OOP provides some features\n",
    "\n",
    "1) Inheritance :- Reusability\n",
    "2) Encapsulation :- Data Security\n",
    "3) Abstraction :- Data hiding"
   ]
  }
 ],
 "metadata": {
  "language_info": {
   "name": "python"
  }
 },
 "nbformat": 4,
 "nbformat_minor": 2
}
