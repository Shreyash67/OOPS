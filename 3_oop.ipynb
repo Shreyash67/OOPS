{
 "cells": [
  {
   "cell_type": "markdown",
   "metadata": {},
   "source": [
    "# Class and Object in Python"
   ]
  },
  {
   "cell_type": "markdown",
   "metadata": {},
   "source": [
    "## What is class?"
   ]
  },
  {
   "cell_type": "markdown",
   "metadata": {},
   "source": [
    "- Class is a template/blueprint prototype for creating object \n",
    "\n",
    "- Every object belong to some classes"
   ]
  },
  {
   "cell_type": "markdown",
   "metadata": {},
   "source": [
    "eg :\n",
    "\n",
    "Email class = Email1(obj1) + Email2(obj2) + Email3(obj3)"
   ]
  },
  {
   "cell_type": "markdown",
   "metadata": {},
   "source": [
    "- Class is a collection of attributes and methods\n",
    "\n",
    "- Class is a collection of Object\n",
    "\n",
    "- Technically, class is a user defined datatypes"
   ]
  },
  {
   "cell_type": "markdown",
   "metadata": {},
   "source": [
    "eg : \n",
    "\n",
    "x = 100  ........(This is object of class INT)\n",
    "\n",
    "[1,2,3] .........(This is an object of class LIST)"
   ]
  },
  {
   "cell_type": "code",
   "execution_count": 1,
   "metadata": {},
   "outputs": [
    {
     "name": "stdout",
     "output_type": "stream",
     "text": [
      "<class 'function'>\n"
     ]
    }
   ],
   "source": [
    "def Demo():\n",
    "    print(\"hello\")\n",
    "\n",
    "print(type(Demo))    "
   ]
  },
  {
   "cell_type": "markdown",
   "metadata": {},
   "source": [
    "- Everything in Python is considered as an Object\n",
    "\n",
    "- There are two Types of classes :\n",
    "\n",
    "1) Built-in class\n",
    "2) User defined class"
   ]
  },
  {
   "cell_type": "code",
   "execution_count": 2,
   "metadata": {},
   "outputs": [
    {
     "name": "stdout",
     "output_type": "stream",
     "text": [
      "<class '__main__.Email'>\n"
     ]
    }
   ],
   "source": [
    "class Email:\n",
    "    pass\n",
    "\n",
    "obj1 = Email()\n",
    "obj2 = Email()\n",
    "\n",
    "print(type(obj1))"
   ]
  }
 ],
 "metadata": {
  "kernelspec": {
   "display_name": "base",
   "language": "python",
   "name": "python3"
  },
  "language_info": {
   "codemirror_mode": {
    "name": "ipython",
    "version": 3
   },
   "file_extension": ".py",
   "mimetype": "text/x-python",
   "name": "python",
   "nbconvert_exporter": "python",
   "pygments_lexer": "ipython3",
   "version": "3.11.5"
  }
 },
 "nbformat": 4,
 "nbformat_minor": 2
}
