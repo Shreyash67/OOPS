{
 "cells": [
  {
   "cell_type": "markdown",
   "metadata": {},
   "source": [
    "# Accessing class members outside the class"
   ]
  },
  {
   "cell_type": "markdown",
   "metadata": {},
   "source": [
    "class Members = Attributes(Variables) + Actions(Methods)"
   ]
  },
  {
   "cell_type": "markdown",
   "metadata": {},
   "source": [
    "- We can access these variables using object outside the class"
   ]
  },
  {
   "cell_type": "markdown",
   "metadata": {},
   "source": [
    "Syntax :\n",
    "\n",
    "Accessing attributes :- Object_name.variable_name\n",
    "\n",
    "Accessing Method :- object_name.method_name"
   ]
  },
  {
   "cell_type": "code",
   "execution_count": 5,
   "metadata": {},
   "outputs": [
    {
     "name": "stdout",
     "output_type": "stream",
     "text": [
      "25000\n",
      "18\n",
      "Salary is 20000 and the age is 18\n"
     ]
    }
   ],
   "source": [
    "class Emp:\n",
    "    def __init__(self,Salary,age):\n",
    "        self.Salary = Salary\n",
    "        self.age = age\n",
    "\n",
    "    def display(self):\n",
    "        print(f\"Salary is {self.Salary} and the age is {self.age}\")\n",
    "\n",
    "e1 = Emp(25000,20)        \n",
    "e2 = Emp(20000,18)\n",
    "\n",
    "print(e1.Salary)\n",
    "\n",
    "print(e2.age)\n",
    "\n",
    "e2.display()\n"
   ]
  }
 ],
 "metadata": {
  "kernelspec": {
   "display_name": "base",
   "language": "python",
   "name": "python3"
  },
  "language_info": {
   "codemirror_mode": {
    "name": "ipython",
    "version": 3
   },
   "file_extension": ".py",
   "mimetype": "text/x-python",
   "name": "python",
   "nbconvert_exporter": "python",
   "pygments_lexer": "ipython3",
   "version": "3.11.5"
  }
 },
 "nbformat": 4,
 "nbformat_minor": 2
}
