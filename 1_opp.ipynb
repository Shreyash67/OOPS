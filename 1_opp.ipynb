{
 "cells": [
  {
   "cell_type": "markdown",
   "metadata": {},
   "source": [
    "# Chapter in oops"
   ]
  },
  {
   "cell_type": "markdown",
   "metadata": {},
   "source": [
    "1. Basic of oops\n",
    "\n",
    "2. Type of variables and methods\n",
    "\n",
    "3. Inheritance\n",
    "\n",
    "4. Polymorphism\n",
    "\n",
    "5. Encapsulation\n",
    "\n",
    "6. Abstraction\n",
    "\n",
    "7. Interface\n",
    "\n",
    "8. Mini project using oop\n",
    "\n",
    "9. Interview Questions"
   ]
  }
 ],
 "metadata": {
  "kernelspec": {
   "display_name": "base",
   "language": "python",
   "name": "python3"
  },
  "language_info": {
   "name": "python",
   "version": "3.11.5"
  }
 },
 "nbformat": 4,
 "nbformat_minor": 2
}
